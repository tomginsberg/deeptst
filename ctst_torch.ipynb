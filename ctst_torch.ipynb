{
 "cells": [
  {
   "cell_type": "code",
   "execution_count": 1,
   "outputs": [],
   "source": [
    "from data import sample_data\n",
    "import torch\n",
    "\n",
    "import pytorch_lightning as pl\n",
    "from models import pretrained\n",
    "import torchmetrics\n",
    "from data.core import split_dataset\n",
    "from torch.utils.data import DataLoader, Dataset\n",
    "from scipy.stats import binom_test\n",
    "import numpy as np"
   ],
   "metadata": {
    "collapsed": false,
    "pycharm": {
     "name": "#%%\n"
    }
   }
  },
  {
   "cell_type": "code",
   "execution_count": 2,
   "outputs": [],
   "source": [
    "p_all = sample_data.cifar10(split='test')\n",
    "q_all = sample_data.cifar10_1()"
   ],
   "metadata": {
    "collapsed": false,
    "pycharm": {
     "name": "#%%\n"
    }
   }
  },
  {
   "cell_type": "code",
   "execution_count": 18,
   "outputs": [],
   "source": [
    "class DomainClassifier(pl.LightningModule):\n",
    "    def __init__(self, lr=1e-3):\n",
    "        super().__init__()\n",
    "        self.model = pretrained.resnet18_trained_on_cifar10(domain_classifier=True).model\n",
    "        self.lr = lr\n",
    "        self.loss = torch.nn.CrossEntropyLoss()\n",
    "        self.accuracy = torchmetrics.Accuracy()\n",
    "        self.save_hyperparameters()\n",
    "\n",
    "    def forward(self, x):\n",
    "        return self.model(x)\n",
    "\n",
    "    def training_step(self, batch, batch_idx):\n",
    "        x, y = batch\n",
    "        y_hat = self(x)\n",
    "        loss = self.loss(y_hat, y)\n",
    "        return loss\n",
    "\n",
    "    def test_step(self, batch, batch_idx):\n",
    "        x, y = batch\n",
    "        y_hat = self(x)\n",
    "        loss = self.loss(y_hat, y)\n",
    "        self.log('val_acc', self.accuracy(y_hat, y))\n",
    "        return loss\n",
    "\n",
    "    def reset(self):\n",
    "        self.accuracy.reset()\n",
    "\n",
    "    def configure_optimizers(self):\n",
    "        return torch.optim.Adam(self.parameters(), lr=self.lr)\n",
    "\n",
    "\n",
    "class DomainClassifierDataset(Dataset):\n",
    "    def __init__(self, p, q):\n",
    "        self.p = p\n",
    "        self.q = q\n",
    "        self.p_labels = torch.zeros(len(p)).long()\n",
    "        self.q_labels = torch.ones(len(q)).long()\n",
    "        self.x = self.p + self.q\n",
    "        self.y = torch.cat([self.p_labels, self.q_labels])\n",
    "\n",
    "    def __len__(self):\n",
    "        return len(self.x)\n",
    "\n",
    "    def __getitem__(self, idx):\n",
    "        return self.x[idx][0], self.y[idx]"
   ],
   "metadata": {
    "collapsed": false,
    "pycharm": {
     "name": "#%%\n"
    }
   }
  },
  {
   "cell_type": "code",
   "execution_count": null,
   "outputs": [],
   "source": [
    "from tqdm import tqdm\n",
    "import logging\n",
    "\n",
    "logging.getLogger(\"pytorch_lightning\").setLevel(logging.WARNING)\n",
    "\n",
    "N = 10\n",
    "\n",
    "res = []\n",
    "for seed in tqdm(range(100)):\n",
    "    p, _ = split_dataset(p_all, N, seed)\n",
    "    p1, p2 = split_dataset(p, N // 2, seed)\n",
    "    q, _ = split_dataset(q_all, N, seed)\n",
    "    q1, q2 = split_dataset(q, N // 2, seed)\n",
    "\n",
    "    d1 = DomainClassifierDataset(p1, q1)\n",
    "    d2 = DomainClassifierDataset(p2, q2)\n",
    "\n",
    "    tr = pl.Trainer(max_epochs=10, gpus=1, auto_select_gpus=True, enable_checkpointing=False,\n",
    "                    enable_model_summary=False,\n",
    "                    logger=False)\n",
    "    model = DomainClassifier(lr=1e-3)\n",
    "    tr.fit(model, DataLoader(d1, batch_size=N, shuffle=True, num_workers=4))\n",
    "    n = int(N * tr.test(model, DataLoader(d2, batch_size=N, shuffle=False, num_workers=4), verbose=False)[0]['val_acc'])\n",
    "    test = binom_test(n - 5, N, 0.5) <= 0.05\n",
    "    res.append(test)"
   ],
   "metadata": {
    "collapsed": false,
    "pycharm": {
     "name": "#%%\n",
     "is_executing": true
    }
   }
  },
  {
   "cell_type": "code",
   "execution_count": 32,
   "outputs": [
    {
     "name": "stdout",
     "output_type": "stream",
     "text": [
      "$.11 \\pm .03$\n"
     ]
    }
   ],
   "source": [
    "N = 10\n",
    "path = f'results/ctst_cam/tests_{N=}.npy'\n",
    "res = np.load(path) <= 0.05\n",
    "res = res.mean(), res.std() / np.sqrt(len(res))\n",
    "print(f'${res[0]:.2f} \\pm {res[1]:.2f}$'.replace('0.', '.'))"
   ],
   "metadata": {
    "collapsed": false,
    "pycharm": {
     "name": "#%%\n"
    }
   }
  },
  {
   "cell_type": "code",
   "execution_count": 20,
   "outputs": [],
   "source": [
    "res = np.load(f'results/ctst_cam/tests_{N=}.npy') < 0.05"
   ],
   "metadata": {
    "collapsed": false,
    "pycharm": {
     "name": "#%%\n"
    }
   }
  },
  {
   "cell_type": "code",
   "execution_count": 21,
   "outputs": [
    {
     "data": {
      "text/plain": "(0.59, 0.04918333050943175)"
     },
     "execution_count": 21,
     "metadata": {},
     "output_type": "execute_result"
    }
   ],
   "source": [
    "res.mean(), res.std() / np.sqrt(len(res))"
   ],
   "metadata": {
    "collapsed": false,
    "pycharm": {
     "name": "#%%\n"
    }
   }
  },
  {
   "cell_type": "code",
   "execution_count": 31,
   "outputs": [
    {
     "data": {
      "text/plain": "array([False, False, False, False, False, False, False, False, False,\n       False, False, False, False, False, False, False, False, False,\n       False, False, False, False, False, False, False, False, False,\n       False, False, False, False, False, False, False, False, False,\n       False, False, False, False, False, False, False, False, False,\n       False, False, False, False, False, False, False, False, False,\n       False, False, False, False, False, False, False, False, False,\n       False, False, False, False, False, False, False, False, False,\n       False, False, False, False, False, False, False, False, False,\n       False, False, False, False, False, False, False, False, False,\n       False, False, False, False, False, False, False, False, False,\n       False])"
     },
     "execution_count": 31,
     "metadata": {},
     "output_type": "execute_result"
    }
   ],
   "source": [
    "np.load(f'results/ctst_cam/tests_N=20.npy') == np.load(f'results/ctst_cam/tests_N=50.npy')"
   ],
   "metadata": {
    "collapsed": false,
    "pycharm": {
     "name": "#%%\n"
    }
   }
  },
  {
   "cell_type": "markdown",
   "source": [],
   "metadata": {
    "collapsed": false,
    "pycharm": {
     "name": "#%% md\n"
    }
   }
  },
  {
   "cell_type": "code",
   "execution_count": 48,
   "outputs": [
    {
     "data": {
      "text/plain": "'0.01'"
     },
     "execution_count": 48,
     "metadata": {},
     "output_type": "execute_result"
    }
   ],
   "source": [
    "n = 98\n",
    "f'{np.std([True] * n + [False] * (100 - n)) / np.sqrt(100):.2f}'"
   ],
   "metadata": {
    "collapsed": false,
    "pycharm": {
     "name": "#%%\n"
    }
   }
  },
  {
   "cell_type": "code",
   "execution_count": null,
   "outputs": [],
   "source": [],
   "metadata": {
    "collapsed": false,
    "pycharm": {
     "name": "#%%\n"
    }
   }
  }
 ],
 "metadata": {
  "kernelspec": {
   "display_name": "Python 3",
   "language": "python",
   "name": "python3"
  },
  "language_info": {
   "codemirror_mode": {
    "name": "ipython",
    "version": 2
   },
   "file_extension": ".py",
   "mimetype": "text/x-python",
   "name": "python",
   "nbconvert_exporter": "python",
   "pygments_lexer": "ipython2",
   "version": "2.7.6"
  }
 },
 "nbformat": 4,
 "nbformat_minor": 0
}