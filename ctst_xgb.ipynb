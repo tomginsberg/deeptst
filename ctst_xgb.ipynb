{
 "cells": [
  {
   "cell_type": "code",
   "execution_count": 46,
   "outputs": [],
   "source": [
    "from data import sample_data\n",
    "\n",
    "import numpy as np\n",
    "import xgboost as xgb\n",
    "from scipy.stats import binom_test"
   ],
   "metadata": {
    "collapsed": false,
    "pycharm": {
     "name": "#%%\n"
    }
   }
  },
  {
   "cell_type": "code",
   "execution_count": 19,
   "outputs": [],
   "source": [
    "DATA = sample_data.uci.uci_heart_numpy()\n",
    "\n",
    "\n",
    "def sample_numpy_arr(arr: np.ndarray, n: int, seed: int = 0) -> np.ndarray:\n",
    "    perm = np.random.RandomState(seed).permutation(len(arr))[:n]\n",
    "    return arr[perm]\n",
    "\n",
    "\n",
    "def split(x):\n",
    "    l = len(x) // 2\n",
    "    return x[:l], x[l:]\n",
    "\n",
    "\n",
    "def to_domain_dmatrix(x, y):\n",
    "    assert len(x) == len(y)\n",
    "    return xgb.DMatrix(np.concatenate([x, y]), label=np.concatenate([np.zeros(len(x)), np.ones(len(y))]))"
   ],
   "metadata": {
    "collapsed": false,
    "pycharm": {
     "name": "#%%\n"
    }
   }
  },
  {
   "cell_type": "code",
   "execution_count": 8,
   "outputs": [],
   "source": [
    "p_all, q_all = DATA['iid_test_data'], DATA['ood_test_data']"
   ],
   "metadata": {
    "collapsed": false,
    "pycharm": {
     "name": "#%%\n"
    }
   }
  },
  {
   "cell_type": "code",
   "execution_count": 49,
   "outputs": [
    {
     "name": "stderr",
     "output_type": "stream",
     "text": [
      "100%|███████████████████████████████████████████████████████████████████████████████████████████████████████████████████████████████████████████| 100/100 [00:05<00:00, 18.61it/s]\n",
      "100%|███████████████████████████████████████████████████████████████████████████████████████████████████████████████████████████████████████████| 100/100 [00:05<00:00, 17.84it/s]\n",
      "100%|███████████████████████████████████████████████████████████████████████████████████████████████████████████████████████████████████████████| 100/100 [00:05<00:00, 17.56it/s]\n",
      "100%|███████████████████████████████████████████████████████████████████████████████████████████████████████████████████████████████████████████| 100/100 [00:05<00:00, 17.03it/s]\n",
      "100%|███████████████████████████████████████████████████████████████████████████████████████████████████████████████████████████████████████████| 100/100 [00:05<00:00, 17.01it/s]\n",
      "100%|███████████████████████████████████████████████████████████████████████████████████████████████████████████████████████████████████████████| 100/100 [00:06<00:00, 16.60it/s]\n",
      "100%|███████████████████████████████████████████████████████████████████████████████████████████████████████████████████████████████████████████| 100/100 [00:06<00:00, 16.40it/s]\n",
      "100%|███████████████████████████████████████████████████████████████████████████████████████████████████████████████████████████████████████████| 100/100 [00:06<00:00, 15.98it/s]\n",
      "100%|███████████████████████████████████████████████████████████████████████████████████████████████████████████████████████████████████████████| 100/100 [00:06<00:00, 15.72it/s]\n",
      "100%|███████████████████████████████████████████████████████████████████████████████████████████████████████████████████████████████████████████| 100/100 [00:06<00:00, 15.52it/s]\n"
     ]
    }
   ],
   "source": [
    "from tqdm import tqdm\n",
    "\n",
    "N = 10\n",
    "res = []\n",
    "for N in range(10, 101, 10):\n",
    "    res.append([])\n",
    "    for seed in tqdm(range(100)):\n",
    "        p1, p2 = split(sample_numpy_arr(p_all, N, seed=seed))\n",
    "        q1, q2 = split(sample_numpy_arr(q_all, N, seed=seed))\n",
    "        d1 = to_domain_dmatrix(p1, q1)\n",
    "        d2 = to_domain_dmatrix(p2, q2)\n",
    "\n",
    "        PARAMS = {\n",
    "            'objective': 'multi:softprob',\n",
    "            'num_class': 2,\n",
    "            'eval_metric': 'merror',\n",
    "            'eta': 0.1,\n",
    "            'max_depth': 6,\n",
    "            'subsample': 0.8,\n",
    "            'colsample_bytree': 0.8,\n",
    "            'min_child_weight': 1,\n",
    "            'nthread': 4,\n",
    "            'tree_method': 'gpu_hist',\n",
    "            'seed': seed\n",
    "        }\n",
    "\n",
    "        bst = xgb.train(PARAMS, d1, num_boost_round=10)\n",
    "        res[-1].append(binom_test(x=float(bst.eval(d2).split(':')[1]) * N, n=N, p=0.5) <= 0.05)\n",
    "res = np.array(res)"
   ],
   "metadata": {
    "collapsed": false,
    "pycharm": {
     "name": "#%%\n"
    }
   }
  },
  {
   "cell_type": "code",
   "execution_count": 60,
   "outputs": [
    {
     "name": "stdout",
     "output_type": "stream",
     "text": [
      "$.15 \\pm .04$ & $.51 \\pm .05$ & $.98 \\pm .01$ & "
     ]
    }
   ],
   "source": [
    "data = []\n",
    "for i, N in enumerate(range(10, 101, 10)):\n",
    "    x = [res[i].mean(), res[i].std() / np.sqrt(100)]\n",
    "    if N in (10, 20, 50):\n",
    "        print(f'${x[0]:.2f} \\pm {x[1]:.2f}$'.replace('0.', '.'), end=' & ')\n",
    "    data.append((N, x[0]))"
   ],
   "metadata": {
    "collapsed": false,
    "pycharm": {
     "name": "#%%\n"
    }
   }
  },
  {
   "cell_type": "code",
   "execution_count": 45,
   "outputs": [
    {
     "data": {
      "text/plain": "0.34375"
     },
     "execution_count": 45,
     "metadata": {},
     "output_type": "execute_result"
    }
   ],
   "source": [],
   "metadata": {
    "collapsed": false,
    "pycharm": {
     "name": "#%%\n"
    }
   }
  },
  {
   "cell_type": "code",
   "execution_count": null,
   "outputs": [],
   "source": [],
   "metadata": {
    "collapsed": false,
    "pycharm": {
     "name": "#%%\n"
    }
   }
  }
 ],
 "metadata": {
  "kernelspec": {
   "display_name": "Python 3",
   "language": "python",
   "name": "python3"
  },
  "language_info": {
   "codemirror_mode": {
    "name": "ipython",
    "version": 2
   },
   "file_extension": ".py",
   "mimetype": "text/x-python",
   "name": "python",
   "nbconvert_exporter": "python",
   "pygments_lexer": "ipython2",
   "version": "2.7.6"
  }
 },
 "nbformat": 4,
 "nbformat_minor": 0
}